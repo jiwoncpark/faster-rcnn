{
 "cells": [
  {
   "cell_type": "code",
   "execution_count": 1,
   "metadata": {
    "collapsed": true
   },
   "outputs": [],
   "source": [
    "import os,sys\n",
    "import numpy as np\n",
    "import tensorflow as tf\n",
    "import vgg_net\n",
    "from rcnn_train.toydata_generator import ToydataGenerator\n",
    "from rcnn_train.shower_generator import make_shower, make_showerset\n",
    "import matplotlib.pyplot as plt\n",
    "%matplotlib inline"
   ]
  },
  {
   "cell_type": "code",
   "execution_count": 2,
   "metadata": {
    "collapsed": true
   },
   "outputs": [],
   "source": [
    "load_file = '../model/ckpt-499'"
   ]
  },
  {
   "cell_type": "code",
   "execution_count": 3,
   "metadata": {
    "collapsed": true
   },
   "outputs": [],
   "source": [
    "sess = tf.InteractiveSession()\n",
    "\n",
    "data_tensor    = tf.placeholder(tf.float32,  [None, 256*256],name='x')\n",
    "data_tensor_2d = tf.reshape(data_tensor,[-1,256,256,1])\n",
    "label_tensor   = tf.placeholder(tf.int64, [None],name='labels')\n",
    "prediction_tensor = tf.placeholder(tf.int64, [None],name='labels')\n",
    "\n",
    "#RESHAPE IMAGE IF NEED BE                                                     \n",
    "#tf.summary.image('input',data_tensor_2d,10)\n",
    "\n",
    "net = vgg_net.build(input_tensor=data_tensor_2d, num_classes=2)\n",
    "\n",
    "with tf.name_scope('softmax'):\n",
    "  softmax = tf.nn.softmax(logits=net)\n",
    "\n",
    "with tf.name_scope('accuracy'):\n",
    "  correct_prediction = tf.equal(tf.argmax(net,1), label_tensor)\n",
    "  accuracy = tf.cast(correct_prediction, tf.float32)"
   ]
  },
  {
   "cell_type": "code",
   "execution_count": 4,
   "metadata": {},
   "outputs": [
    {
     "name": "stdout",
     "output_type": "stream",
     "text": [
      "reading in model variables...\n",
      "INFO:tensorflow:Restoring parameters from ../model/ckpt-499\n"
     ]
    }
   ],
   "source": [
    "if load_file:\n",
    "  print \"reading in model variables...\"\n",
    "  vlist = tf.get_collection(tf.GraphKeys.TRAINABLE_VARIABLES)\n",
    "  reader = tf.train.Saver(var_list=vlist)\n",
    "  reader.restore(sess, load_file)"
   ]
  },
  {
   "cell_type": "code",
   "execution_count": 16,
   "metadata": {
    "collapsed": true
   },
   "outputs": [],
   "source": [
    "%%capture\n",
    "test_angles = np.arange(0, 50, 1)+0.001\n",
    "s_arr = np.zeros((test_angles.shape))\n",
    "a_arr = np.zeros((test_angles.shape))\n",
    "\n",
    "for i in range(len(test_angles)):\n",
    "    args = dict(\n",
    "        nx = 256,        \n",
    "        ny = 256,      \n",
    "        nlines = 10,     \n",
    "        dtheta = np.radians(test_angles[i]),\n",
    "        lmin = 30,\n",
    "        lmax = 100,\n",
    "        keep = 7,\n",
    "        keep_prob = 0.6,\n",
    "        nimages = 100,\n",
    "        out_png = False,\n",
    "        )\n",
    "\n",
    "    blob = make_showerset(args);\n",
    "    a = accuracy.eval(feed_dict={data_tensor: blob['data'].reshape(-1, 256*256), label_tensor: blob['labels']})\n",
    "    s = softmax.eval(feed_dict={data_tensor: blob['data'].reshape(-1, 256*256)})\n",
    "    a_arr[i] = np.mean(a)\n",
    "    s_arr[i] = np.mean(s[:,0])"
   ]
  },
  {
   "cell_type": "code",
   "execution_count": 22,
   "metadata": {},
   "outputs": [
    {
     "data": {
      "text/plain": [
       "<matplotlib.image.AxesImage at 0x7fb74878ec90>"
      ]
     },
     "execution_count": 22,
     "metadata": {},
     "output_type": "execute_result"
    },
    {
     "data": {
      "image/png": "[encoded data removed]",
      "text/plain": [
       "<matplotlib.figure.Figure at 0x7fb774126c10>"
      ]
     },
     "metadata": {},
     "output_type": "display_data"
    }
   ],
   "source": [
    "view_i = 0\n",
    "args = dict(\n",
    "        nx = 256,        \n",
    "        ny = 256,      \n",
    "        nlines = 10,     \n",
    "        dtheta = np.radians(test_angles[view_i]),\n",
    "        lmin = 30,\n",
    "        lmax = 100,\n",
    "        keep = 7,\n",
    "        keep_prob = 0.6,\n",
    "        nimages = 10,\n",
    "        out_png = False,\n",
    "        )\n",
    "\n",
    "blob = make_showerset(args)\n",
    "\n",
    "plt.imshow(blob['data'].reshape(-1, 256, 256)[3,:,:])"
   ]
  },
  {
   "cell_type": "code",
   "execution_count": 10,
   "metadata": {
    "collapsed": true
   },
   "outputs": [],
   "source": [
    "a = accuracy.eval(feed_dict={data_tensor: blob['data'].reshape(-1, 256*256), label_tensor: blob['labels']})\n",
    "\n",
    "s = softmax.eval(feed_dict={data_tensor: blob['data'].reshape(-1, 256*256)})"
   ]
  },
  {
   "cell_type": "code",
   "execution_count": 23,
   "metadata": {},
   "outputs": [
    {
     "data": {
      "text/plain": [
       "(array([ 12.,   3.,   2.,   2.,   2.,   3.,   3.,   1.,   7.,  65.]),\n",
       " array([  1.52040820e-06,   1.00001368e-01,   2.00001216e-01,\n",
       "          3.00001064e-01,   4.00000912e-01,   5.00000760e-01,\n",
       "          6.00000608e-01,   7.00000456e-01,   8.00000304e-01,\n",
       "          9.00000152e-01,   1.00000000e+00]),\n",
       " <a list of 10 Patch objects>)"
      ]
     },
     "execution_count": 23,
     "metadata": {},
     "output_type": "execute_result"
    },
    {
     "data": {
      "image/png": "[encoded data removed]",
      "text/plain": [
       "<matplotlib.figure.Figure at 0x7fb7740d2390>"
      ]
     },
     "metadata": {},
     "output_type": "display_data"
    }
   ],
   "source": [
    "plt.hist(s[:,view_i])"
   ]
  },
  {
   "cell_type": "code",
   "execution_count": 19,
   "metadata": {},
   "outputs": [
    {
     "data": {
      "text/plain": [
       "(-5, 103.002)"
      ]
     },
     "execution_count": 19,
     "metadata": {},
     "output_type": "execute_result"
    },
    {
     "data": {
      "image/png": "[encoded data removed]",
      "text/plain": [
       "<matplotlib.figure.Figure at 0x7fb7746c1250>"
      ]
     },
     "metadata": {},
     "output_type": "display_data"
    }
   ],
   "source": [
    "plt.plot(test_angles*2, s_arr)\n",
    "plt.ylim(-0.1, 1.1)\n",
    "plt.xlim(-5, (test_angles*2)[-1]+5)"
   ]
  },
  {
   "cell_type": "code",
   "execution_count": 20,
   "metadata": {},
   "outputs": [
    {
     "data": {
      "text/plain": [
       "(-5, 103.002)"
      ]
     },
     "execution_count": 20,
     "metadata": {},
     "output_type": "execute_result"
    },
    {
     "data": {
      "image/png": "[encoded data removed]",
      "text/plain": [
       "<matplotlib.figure.Figure at 0x7fb7741cd110>"
      ]
     },
     "metadata": {},
     "output_type": "display_data"
    }
   ],
   "source": [
    "plt.plot(test_angles*2, a_arr)\n",
    "plt.ylim(-0.1, 1.1)\n",
    "plt.xlim(-5, (test_angles*2)[-1]+5)"
   ]
  }
 ],
 "metadata": {
  "kernelspec": {
   "display_name": "Python 2",
   "language": "python",
   "name": "python2"
  },
  "language_info": {
   "codemirror_mode": {
    "name": "ipython",
    "version": 2
   },
   "file_extension": ".py",
   "mimetype": "text/x-python",
   "name": "python",
   "nbconvert_exporter": "python",
   "pygments_lexer": "ipython2",
   "version": "2.7.6"
  }
 },
 "nbformat": 4,
 "nbformat_minor": 2
}
